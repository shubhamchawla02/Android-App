{
  "nbformat": 4,
  "nbformat_minor": 0,
  "metadata": {
    "colab": {
      "name": "AGRO NEWS .ipynb",
      "provenance": [],
      "collapsed_sections": [],
      "include_colab_link": true
    },
    "kernelspec": {
      "name": "python3",
      "display_name": "Python 3"
    },
    "language_info": {
      "name": "python"
    }
  },
  "cells": [
    {
      "cell_type": "markdown",
      "metadata": {
        "id": "view-in-github",
        "colab_type": "text"
      },
      "source": [
        "<a href=\"https://colab.research.google.com/github/shubhamchawla02/Android-App/blob/main/AGRO_NEWS_.ipynb\" target=\"_parent\"><img src=\"https://colab.research.google.com/assets/colab-badge.svg\" alt=\"Open In Colab\"/></a>"
      ]
    },
    {
      "cell_type": "code",
      "metadata": {
        "id": "nlQtrrUby9Ho"
      },
      "source": [
        "!pip install selenium\n",
        "!pip install webdriver_manager\n",
        "!apt-get update # to update ubuntu to correctly run apt install\n",
        "!apt install chromium-chromedriver\n",
        "!cp /usr/lib/chromium-browser/chromedriver /usr/bin"
      ],
      "execution_count": null,
      "outputs": []
    },
    {
      "cell_type": "code",
      "metadata": {
        "id": "Fers-mtKTG0Z",
        "outputId": "eddd60a6-9187-4664-d0f7-47f287123778",
        "colab": {
          "base_uri": "https://localhost:8080/"
        }
      },
      "source": [
        "import sys\n",
        "sys.path.insert(0,'/usr/lib/chromium-browser/chromedriver')\n",
        "from selenium import webdriver\n",
        "from selenium.common.exceptions import NoSuchElementException\n",
        "chrome_options = webdriver.ChromeOptions()\n",
        "chrome_options.add_argument('--headless')\n",
        "chrome_options.add_argument('--no-sandbox')\n",
        "chrome_options.add_argument('--disable-dev-shm-usage')\n",
        "wd = webdriver.Chrome('chromedriver',chrome_options=chrome_options)\n",
        "wd.get(\"https://www.webite-url.com\")\n",
        "\n",
        "import requests\n",
        "from bs4 import BeautifulSoup as bs4 \n",
        "import pandas as pd \n",
        "from selenium import webdriver\n",
        "from selenium.webdriver.support.ui import WebDriverWait\n",
        "from selenium.webdriver.chrome.options import Options\n",
        "import time\n",
        "\n",
        "#best way to install and use the chrome driver \n",
        "from selenium import webdriver\n",
        "from webdriver_manager.chrome import ChromeDriverManager\n",
        "\n",
        "driver = webdriver.Chrome(options=chrome_options)\n",
        "options = Options()\n",
        "options.headless = True"
      ],
      "execution_count": 2,
      "outputs": [
        {
          "output_type": "stream",
          "text": [
            "/usr/local/lib/python3.7/dist-packages/ipykernel_launcher.py:9: DeprecationWarning: use options instead of chrome_options\n",
            "  if __name__ == '__main__':\n"
          ],
          "name": "stderr"
        }
      ]
    },
    {
      "cell_type": "code",
      "metadata": {
        "colab": {
          "base_uri": "https://localhost:8080/"
        },
        "id": "qw8rNxMQzEKY",
        "outputId": "57a14516-462c-4b2e-b43d-c0aea69205ef"
      },
      "source": [
        "import pandas as pd\n",
        "df=pd.read_csv('/content/Content.csv')\n",
        "df.columns"
      ],
      "execution_count": 3,
      "outputs": [
        {
          "output_type": "execute_result",
          "data": {
            "text/plain": [
              "Index(['Keywords'], dtype='object')"
            ]
          },
          "metadata": {},
          "execution_count": 3
        }
      ]
    },
    {
      "cell_type": "code",
      "metadata": {
        "id": "ML6cRwtT5Qgb",
        "colab": {
          "base_uri": "https://localhost:8080/"
        },
        "outputId": "d34671bc-367a-42c9-d8c9-f5875b674768"
      },
      "source": [
        "keywords1=[]\n",
        "for i in df['Keywords']:\n",
        "    text=i.strip().replace(\" \",\"0kongge0\")\n",
        "    keywords1.append(text)\n",
        "print(keywords1)"
      ],
      "execution_count": 4,
      "outputs": [
        {
          "output_type": "stream",
          "text": [
            "['Fungicide']\n"
          ],
          "name": "stdout"
        }
      ]
    },
    {
      "cell_type": "code",
      "metadata": {
        "id": "xNcNXRcx6E1F",
        "colab": {
          "base_uri": "https://localhost:8080/"
        },
        "outputId": "9bbaae4a-bbb2-476f-d287-933b702e7995"
      },
      "source": [
        "urls1=[]\n",
        "for i in keywords1:\n",
        "    url='http://news.agropages.com/Search-1.htm?key='+i\n",
        "    urls1.append(url)\n",
        "print(len(urls1))"
      ],
      "execution_count": 5,
      "outputs": [
        {
          "output_type": "stream",
          "text": [
            "1\n"
          ],
          "name": "stdout"
        }
      ]
    },
    {
      "cell_type": "code",
      "metadata": {
        "colab": {
          "base_uri": "https://localhost:8080/"
        },
        "id": "E1VLMmtg6FtX",
        "outputId": "ad0e41e6-372b-4fe5-bd6c-f3d86f985006"
      },
      "source": [
        "title1=[]\n",
        "date1=[]\n",
        "links1=[]\n",
        "subtitle1=[]\n",
        "desc1=[]\n",
        "for i in urls1:\n",
        "    driver.get(i)\n",
        "    print(i)\n",
        "    time.sleep(1)\n",
        "    titles=driver.find_elements_by_css_selector('ul.s-list li div.fl h3 a')\n",
        "\n",
        "    for i in titles:\n",
        "        title1.append(i.text)\n",
        "\n",
        "    dates=driver.find_elements_by_css_selector('ul.s-list li div.fl:nth-child(1) p')\n",
        "    for i in dates:\n",
        "        date1.append(i.text)\n",
        "\n",
        "    links=driver.find_elements_by_css_selector('ul li div:nth-child(1) h3 a')\n",
        "    for i in links:\n",
        "        links1.append(i.get_attribute('href'))"
      ],
      "execution_count": 6,
      "outputs": [
        {
          "output_type": "stream",
          "text": [
            "http://news.agropages.com/Search-1.htm?key=Fungicide\n"
          ],
          "name": "stdout"
        }
      ]
    },
    {
      "cell_type": "code",
      "metadata": {
        "colab": {
          "base_uri": "https://localhost:8080/",
          "height": 514
        },
        "id": "B7z5tCR56PD4",
        "outputId": "5b61894f-b744-4427-a907-ea2b6bf17fa9"
      },
      "source": [
        "data={'Title':title1,'Date':date1,'Link':links1}\n",
        "df1=pd.DataFrame(data=data)\n",
        "\n",
        "final1=df1[(df1['Date']>='2021-06-21')]\n",
        "final1['Date']=pd.to_datetime(final1['Date']).dt.strftime(\"%d/%m/%Y\")\n",
        "final1"
      ],
      "execution_count": 7,
      "outputs": [
        {
          "output_type": "execute_result",
          "data": {
            "text/html": [
              "<div>\n",
              "<style scoped>\n",
              "    .dataframe tbody tr th:only-of-type {\n",
              "        vertical-align: middle;\n",
              "    }\n",
              "\n",
              "    .dataframe tbody tr th {\n",
              "        vertical-align: top;\n",
              "    }\n",
              "\n",
              "    .dataframe thead th {\n",
              "        text-align: right;\n",
              "    }\n",
              "</style>\n",
              "<table border=\"1\" class=\"dataframe\">\n",
              "  <thead>\n",
              "    <tr style=\"text-align: right;\">\n",
              "      <th></th>\n",
              "      <th>Title</th>\n",
              "      <th>Date</th>\n",
              "      <th>Link</th>\n",
              "    </tr>\n",
              "  </thead>\n",
              "  <tbody>\n",
              "    <tr>\n",
              "      <th>0</th>\n",
              "      <td>Jingbo Agrochemical receives three production ...</td>\n",
              "      <td>30/08/2021</td>\n",
              "      <td>http://news.agropages.com/News/NewsDetail---40...</td>\n",
              "    </tr>\n",
              "    <tr>\n",
              "      <th>1</th>\n",
              "      <td>U.S. EPA releases draft biological evaluations...</td>\n",
              "      <td>30/08/2021</td>\n",
              "      <td>http://news.agropages.com/News/NewsDetail---40...</td>\n",
              "    </tr>\n",
              "    <tr>\n",
              "      <th>2</th>\n",
              "      <td>Amoéba: a 2nd cereal trial campaign confirms t...</td>\n",
              "      <td>30/08/2021</td>\n",
              "      <td>http://news.agropages.com/News/NewsDetail---40...</td>\n",
              "    </tr>\n",
              "    <tr>\n",
              "      <th>3</th>\n",
              "      <td>USA: MSU extension conducting most on-farm res...</td>\n",
              "      <td>27/08/2021</td>\n",
              "      <td>http://news.agropages.com/News/NewsDetail---40...</td>\n",
              "    </tr>\n",
              "    <tr>\n",
              "      <th>4</th>\n",
              "      <td>Seed Treatment Testing Requirements - Lab Scal...</td>\n",
              "      <td>27/08/2021</td>\n",
              "      <td>http://news.agropages.com/News/NewsDetail---40...</td>\n",
              "    </tr>\n",
              "    <tr>\n",
              "      <th>5</th>\n",
              "      <td>Bayer’s new Fungicide drives better performanc...</td>\n",
              "      <td>27/08/2021</td>\n",
              "      <td>http://news.agropages.com/News/NewsDetail---40...</td>\n",
              "    </tr>\n",
              "    <tr>\n",
              "      <th>6</th>\n",
              "      <td>Syngenta Group: Growth of sustainability-enabl...</td>\n",
              "      <td>27/08/2021</td>\n",
              "      <td>http://news.agropages.com/News/NewsDetail---40...</td>\n",
              "    </tr>\n",
              "    <tr>\n",
              "      <th>7</th>\n",
              "      <td>ADAMA reports second quarter and first half 20...</td>\n",
              "      <td>26/08/2021</td>\n",
              "      <td>http://news.agropages.com/News/NewsDetail---40...</td>\n",
              "    </tr>\n",
              "    <tr>\n",
              "      <th>8</th>\n",
              "      <td>Researchers developed quick diagnostic tests t...</td>\n",
              "      <td>25/08/2021</td>\n",
              "      <td>http://news.agropages.com/News/NewsDetail---40...</td>\n",
              "    </tr>\n",
              "    <tr>\n",
              "      <th>9</th>\n",
              "      <td>Giving Every Seed Every Advantage - Dialogue w...</td>\n",
              "      <td>25/08/2021</td>\n",
              "      <td>http://news.agropages.com/News/NewsDetail---40...</td>\n",
              "    </tr>\n",
              "    <tr>\n",
              "      <th>10</th>\n",
              "      <td>ECHA consults on propiconazole and hexaflumuro...</td>\n",
              "      <td>24/08/2021</td>\n",
              "      <td>http://news.agropages.com/News/NewsDetail---40...</td>\n",
              "    </tr>\n",
              "    <tr>\n",
              "      <th>11</th>\n",
              "      <td>Ghent scientists develop vaccine against potat...</td>\n",
              "      <td>20/08/2021</td>\n",
              "      <td>http://news.agropages.com/News/NewsDetail---40...</td>\n",
              "    </tr>\n",
              "    <tr>\n",
              "      <th>12</th>\n",
              "      <td>New solution of potato late blight: Pilarquim ...</td>\n",
              "      <td>20/08/2021</td>\n",
              "      <td>http://news.agropages.com/News/NewsDetail---40...</td>\n",
              "    </tr>\n",
              "    <tr>\n",
              "      <th>13</th>\n",
              "      <td>Chlorothalonil price down to historic low leve...</td>\n",
              "      <td>19/08/2021</td>\n",
              "      <td>http://news.agropages.com/News/NewsDetail---40...</td>\n",
              "    </tr>\n",
              "    <tr>\n",
              "      <th>14</th>\n",
              "      <td>Syngenta Canada launches Vayantis corn and soy...</td>\n",
              "      <td>18/08/2021</td>\n",
              "      <td>http://news.agropages.com/News/NewsDetail---40...</td>\n",
              "    </tr>\n",
              "  </tbody>\n",
              "</table>\n",
              "</div>"
            ],
            "text/plain": [
              "                                                Title  ...                                               Link\n",
              "0   Jingbo Agrochemical receives three production ...  ...  http://news.agropages.com/News/NewsDetail---40...\n",
              "1   U.S. EPA releases draft biological evaluations...  ...  http://news.agropages.com/News/NewsDetail---40...\n",
              "2   Amoéba: a 2nd cereal trial campaign confirms t...  ...  http://news.agropages.com/News/NewsDetail---40...\n",
              "3   USA: MSU extension conducting most on-farm res...  ...  http://news.agropages.com/News/NewsDetail---40...\n",
              "4   Seed Treatment Testing Requirements - Lab Scal...  ...  http://news.agropages.com/News/NewsDetail---40...\n",
              "5   Bayer’s new Fungicide drives better performanc...  ...  http://news.agropages.com/News/NewsDetail---40...\n",
              "6   Syngenta Group: Growth of sustainability-enabl...  ...  http://news.agropages.com/News/NewsDetail---40...\n",
              "7   ADAMA reports second quarter and first half 20...  ...  http://news.agropages.com/News/NewsDetail---40...\n",
              "8   Researchers developed quick diagnostic tests t...  ...  http://news.agropages.com/News/NewsDetail---40...\n",
              "9   Giving Every Seed Every Advantage - Dialogue w...  ...  http://news.agropages.com/News/NewsDetail---40...\n",
              "10  ECHA consults on propiconazole and hexaflumuro...  ...  http://news.agropages.com/News/NewsDetail---40...\n",
              "11  Ghent scientists develop vaccine against potat...  ...  http://news.agropages.com/News/NewsDetail---40...\n",
              "12  New solution of potato late blight: Pilarquim ...  ...  http://news.agropages.com/News/NewsDetail---40...\n",
              "13  Chlorothalonil price down to historic low leve...  ...  http://news.agropages.com/News/NewsDetail---40...\n",
              "14  Syngenta Canada launches Vayantis corn and soy...  ...  http://news.agropages.com/News/NewsDetail---40...\n",
              "\n",
              "[15 rows x 3 columns]"
            ]
          },
          "metadata": {},
          "execution_count": 7
        }
      ]
    },
    {
      "cell_type": "code",
      "metadata": {
        "id": "mFf8VBEE6box",
        "colab": {
          "base_uri": "https://localhost:8080/"
        },
        "outputId": "198a1eeb-c0be-4dcd-bdad-96bb73e4ab1e"
      },
      "source": [
        "final1.to_csv('TBContinued.csv', index = False)\n",
        "df=pd.read_csv('/content/TBContinued.csv')\n",
        "links1=df['Link'].to_list()\n",
        "print(len(links1))"
      ],
      "execution_count": 8,
      "outputs": [
        {
          "output_type": "stream",
          "text": [
            "15\n"
          ],
          "name": "stdout"
        }
      ]
    },
    {
      "cell_type": "code",
      "metadata": {
        "id": "u5aHnIqj689C"
      },
      "source": [
        "desc=[]\n",
        "subtitle=[]\n",
        "for i in range(0,len(links1)):\n",
        "    li=links1[i]\n",
        "    print(i)\n",
        "    driver.get(li)\n",
        "    time.sleep(2)\n",
        "    try:\n",
        "        sub=driver.find_element_by_css_selector('h2.fs18.mt5')\n",
        "        subtitle.append(sub.text.encode('ascii','ignore').decode('utf-8'))\n",
        "    except NoSuchElementException:\n",
        "        subtitle.append('NA')    \n",
        "        \n",
        "    try:\n",
        "        main=driver.find_element_by_id('cont_newstxt')\n",
        "        desc.append(main.text)\n",
        "    except NoSuchElementException:\n",
        "        desc.append('NA')\n",
        "    print(desc)\n",
        "    print(subtitle)"
      ],
      "execution_count": null,
      "outputs": []
    },
    {
      "cell_type": "code",
      "metadata": {
        "id": "w0_eozgu7Tpn"
      },
      "source": [
        "df['Subtitle']=subtitle\n",
        "df['Full Description']=desc"
      ],
      "execution_count": 10,
      "outputs": []
    },
    {
      "cell_type": "code",
      "metadata": {
        "id": "LLYN35Zq7Tr7"
      },
      "source": [
        "df.to_csv('Agro-mid.csv', index = False)\n",
        "df"
      ],
      "execution_count": null,
      "outputs": []
    },
    {
      "cell_type": "markdown",
      "metadata": {
        "id": "-Jt09q_s7iPJ"
      },
      "source": [
        "SCRAPING IMAGES \n"
      ]
    },
    {
      "cell_type": "code",
      "metadata": {
        "id": "iCzfev7X7T0D"
      },
      "source": [
        "titles=df['Title'].to_list()\n",
        "img=[]\n",
        "for i in titles:\n",
        "    text=i.replace(\" \",\"%20\").replace(\"%20%20%20\",\"%20\")\n",
        "    img.append(text)"
      ],
      "execution_count": 12,
      "outputs": []
    },
    {
      "cell_type": "code",
      "metadata": {
        "id": "lEtCOhde7T2L"
      },
      "source": [
        "count=0\n",
        "image_link1=[]\n",
        "for i in img:\n",
        "    count = count + 1\n",
        "    print(count)\n",
        "    driver.get('https://www.google.co.in/search?q='+i+'&tbm=isch&hl=en&tbs=isz:m')\n",
        "    print(driver.current_url)\n",
        "    \n",
        "    try:\n",
        "        click_img=driver.find_element_by_css_selector('div.islrc div:nth-child(1) a:nth-child(1)').click()\n",
        "        time.sleep(1)\n",
        "        img1=driver.find_element_by_xpath('//*[@id=\"Sva75c\"]/div/div/div[3]/div[2]/c-wiz/div/div[1]/div[1]/div[2]/div[1]/a/img')\n",
        "        image_link1.append(img1.get_attribute('src'))\n",
        "        driver.back()\n",
        "        time.sleep(1)\n",
        "    except NoSuchElementException:\n",
        "        image_link1.append('NA')"
      ],
      "execution_count": null,
      "outputs": []
    },
    {
      "cell_type": "code",
      "metadata": {
        "id": "8BDuE0fN7pEH"
      },
      "source": [
        "df['Image']=image_link1"
      ],
      "execution_count": 14,
      "outputs": []
    },
    {
      "cell_type": "code",
      "metadata": {
        "id": "NpNdWaig7pNI"
      },
      "source": [
        "df"
      ],
      "execution_count": null,
      "outputs": []
    },
    {
      "cell_type": "code",
      "metadata": {
        "id": "xMmm3HWP7pUk",
        "colab": {
          "base_uri": "https://localhost:8080/"
        },
        "outputId": "970680f9-21b3-4ac5-81f9-f1dd48c7a556"
      },
      "source": [
        "!pip install xlsxwriter\n",
        "# Create a Pandas Excel writer using XlsxWriter as the engine.\n",
        "writer = pd.ExcelWriter('Scraped_News.xlsx', engine='xlsxwriter')\n",
        "\n",
        "# Convert the dataframe to an XlsxWriter Excel object.\n",
        "df.to_excel(writer, sheet_name='Agro_News', index = False)\n",
        "\n",
        "# Close the Pandas Excel writer and output the Excel file.\n",
        "writer.save()\n",
        "\n",
        "\n",
        "#df.to_csv('Agro-final1.csv',index = False)\n",
        "#df"
      ],
      "execution_count": 15,
      "outputs": [
        {
          "output_type": "stream",
          "text": [
            "Requirement already satisfied: xlsxwriter in /usr/local/lib/python3.7/dist-packages (3.0.1)\n"
          ],
          "name": "stdout"
        }
      ]
    }
  ]
}